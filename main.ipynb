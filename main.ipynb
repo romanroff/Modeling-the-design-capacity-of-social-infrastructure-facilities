{
 "cells": [
  {
   "cell_type": "markdown",
   "id": "4a6ca769",
   "metadata": {},
   "source": [
    "## Original code"
   ]
  },
  {
   "cell_type": "code",
   "execution_count": 1,
   "id": "837fc4f9",
   "metadata": {},
   "outputs": [
    {
     "name": "stderr",
     "output_type": "stream",
     "text": [
      "e:\\Github\\Modeling-the-design-capacity-of-social-infrastructure-facilities\\.venv\\Lib\\site-packages\\tqdm\\auto.py:21: TqdmWarning: IProgress not found. Please update jupyter and ipywidgets. See https://ipywidgets.readthedocs.io/en/stable/user_install.html\n",
      "  from .autonotebook import tqdm as notebook_tqdm\n"
     ]
    }
   ],
   "source": [
    "import geopandas as gpd\n",
    "import pandas as pd\n",
    "import numpy as np\n",
    "from shapely.geometry import Point, Polygon\n",
    "import matplotlib.pyplot as plt\n",
    "import seaborn as sns\n",
    "from sklearn.model_selection import train_test_split, cross_val_score\n",
    "from sklearn.metrics import mean_squared_error\n",
    "from sklearn.ensemble import RandomForestRegressor, GradientBoostingRegressor, VotingRegressor\n",
    "from xgboost import XGBRegressor\n",
    "import lightgbm as lgb\n",
    "from catboost import CatBoostRegressor\n",
    "import shap\n",
    "import joblib\n",
    "import optuna\n"
   ]
  },
  {
   "cell_type": "code",
   "execution_count": 31,
   "id": "7f79369e",
   "metadata": {},
   "outputs": [],
   "source": [
    "# Загрузка данных и проверка на корректность столбцов\n",
    "def load_geodata(file_path):\n",
    "    \"\"\"\n",
    "    Загрузка геопространственных данных и очистка названий столбцов.\n",
    "    \"\"\"\n",
    "    gdf = gpd.read_file(file_path)\n",
    "    # gdf.to_crs('EPSG:3857', inplace=True)\n",
    "    # Очистка названий столбцов (удаление лишних пробелов и скрытых символов)\n",
    "    gdf.columns = gdf.columns.str.strip()\n",
    "\n",
    "    # Проверка наличия столбца 'levels'\n",
    "    if 'levels' not in gdf.columns:\n",
    "        print(\"Столбец 'levels' отсутствует в данных. Создаем его со значением по умолчанию 0.\")\n",
    "        gdf['levels'] = 0  # или установите другое значение по умолчанию, если это необходимо\n",
    "\n",
    "    # Приведение типа столбца 'levels' к целому числу\n",
    "    gdf['levels'] = pd.to_numeric(gdf['levels'], errors='coerce').fillna(0).astype(int)\n",
    "    return gdf\n",
    "\n",
    "def compute_geometric_features(gdfs):\n",
    "    \"\"\"\n",
    "    Вычисление геометрических характеристик, включая количество вершин.\n",
    "    \"\"\"\n",
    "    gdf = gdfs[gdfs.geometry.type.isin(['Polygon', 'MultiPolygon'])].copy()\n",
    "    # Вычисляем стандартные характеристики\n",
    "    gdf['area'] = gdf['geometry'].area\n",
    "    gdf['perimeter'] = gdf['geometry'].length\n",
    "    gdf['compactness'] = (4 * np.pi * gdf['area']) / (gdf['perimeter'] ** 2)\n",
    "    gdf['bounding_box'] = gdf['geometry'].apply(lambda x: x.minimum_rotated_rectangle)\n",
    "\n",
    "    def calculate_length_and_width(polygon):\n",
    "        coords = list(polygon.exterior.coords)\n",
    "        side_lengths = [np.linalg.norm(np.array(coords[i]) - np.array(coords[i - 1])) for i in range(1, len(coords))]\n",
    "        return max(side_lengths), min(side_lengths)\n",
    "\n",
    "    gdf[['length', 'width']] = gdf['bounding_box'].apply(lambda x: pd.Series(calculate_length_and_width(x)))\n",
    "\n",
    "    gdf['centroid_x'] = gdf['geometry'].centroid.x\n",
    "    gdf['centroid_y'] = gdf['geometry'].centroid.y\n",
    "\n",
    "    gdf['area_perimeter_ratio'] = gdf['area'] / gdf['perimeter']\n",
    "\n",
    "    def count_vertices(geometry):\n",
    "        if geometry.is_empty or geometry is None:\n",
    "            return 0\n",
    "        if geometry.type == 'Polygon':\n",
    "            return len(geometry.exterior.coords)\n",
    "        if geometry.type == 'MultiPolygon':\n",
    "            return sum(len(polygon.exterior.coords) for polygon in geometry.geoms)\n",
    "        return 0\n",
    "\n",
    "    gdf['vertex_count'] = gdf.geometry.apply(count_vertices)\n",
    "    gdf['convex_hull'] = gdf['geometry'].convex_hull\n",
    "    gdf['convex_hull_area'] = gdf['convex_hull'].area\n",
    "    gdf['convexity_ratio'] = gdf['area'] / gdf['convex_hull_area']\n",
    "    gdf['centroid_distance_from_origin'] = np.sqrt(gdf['centroid_x']**2 + gdf['centroid_y']**2)\n",
    "\n",
    "    return gdf.drop(columns=['bounding_box', 'convex_hull'])\n",
    "\n",
    "def save_data(gdf, output_file_path):\n",
    "    gdf.to_file(output_file_path, driver='GeoJSON')\n",
    "\n",
    "def evaluate_model(model, X_test, y_test):\n",
    "    y_pred = model.predict(X_test)\n",
    "    rmse = np.sqrt(mean_squared_error(y_test, y_pred))\n",
    "    return rmse, y_pred\n",
    "\n",
    "def cross_validate_model(model, X, y):\n",
    "    scores = cross_val_score(model, X, y, cv=5, scoring='neg_mean_squared_error')\n",
    "    return np.sqrt(-scores).mean()\n",
    "\n",
    "def plot_feature_importance(model, features):\n",
    "    importances = model.feature_importances_\n",
    "    plt.figure(figsize=(12, 8))\n",
    "    sns.barplot(x=importances, y=features, palette=\"viridis\", hue=None, legend=False)\n",
    "    plt.title(\"Feature Importance\")\n",
    "    plt.xlabel(\"Importance\")\n",
    "    plt.ylabel(\"Feature\")\n",
    "    plt.show()\n",
    "\n",
    "def optimize_xgboost_with_optuna(X_train, y_train):\n",
    "    def objective(trial):\n",
    "        params = {\n",
    "            'n_estimators': trial.suggest_int('n_estimators', 100, 1000),\n",
    "            'max_depth': trial.suggest_int('max_depth', 3, 10),\n",
    "            'learning_rate': trial.suggest_loguniform('learning_rate', 0.01, 0.3),\n",
    "            'subsample': trial.suggest_uniform('subsample', 0.6, 1.0),\n",
    "            'colsample_bytree': trial.suggest_uniform('colsample_bytree', 0.6, 1.0),\n",
    "            'reg_alpha': trial.suggest_loguniform('reg_alpha', 1e-5, 1.0),\n",
    "            'reg_lambda': trial.suggest_loguniform('reg_lambda', 1e-5, 1.0)\n",
    "        }\n",
    "        model = XGBRegressor(**params, random_state=42)\n",
    "        score = cross_validate_model(model, X_train, y_train)\n",
    "        return score\n",
    "\n",
    "    study = optuna.create_study(direction='minimize')\n",
    "    study.optimize(objective, n_trials=50)\n",
    "    best_params = study.best_params\n",
    "    return XGBRegressor(**best_params, random_state=42)\n"
   ]
  },
  {
   "cell_type": "code",
   "execution_count": 32,
   "id": "6e7d4985",
   "metadata": {},
   "outputs": [
    {
     "name": "stderr",
     "output_type": "stream",
     "text": [
      "E:\\Temp\\ipykernel_17332\\45628570.py:46: ShapelyDeprecationWarning: The 'type' attribute is deprecated, and will be removed in the future. You can use the 'geom_type' attribute instead.\n",
      "  if geometry.type == 'Polygon':\n",
      "E:\\Temp\\ipykernel_17332\\45628570.py:48: ShapelyDeprecationWarning: The 'type' attribute is deprecated, and will be removed in the future. You can use the 'geom_type' attribute instead.\n",
      "  if geometry.type == 'MultiPolygon':\n"
     ]
    }
   ],
   "source": [
    "file_path = 'data/input/school_spb.geojson'\n",
    "schools_gdf = load_geodata(file_path)\n",
    "\n",
    "schools_gdf = compute_geometric_features(schools_gdf)\n",
    "\n",
    "features = ['area', 'perimeter', 'compactness', 'levels', 'length', 'width', 'area_perimeter_ratio', 'vertex_count', 'convexity_ratio']\n",
    "X = schools_gdf[features]\n",
    "y = schools_gdf['rgisCAPACITY']\n"
   ]
  },
  {
   "cell_type": "code",
   "execution_count": null,
   "id": "17c82aa7",
   "metadata": {},
   "outputs": [],
   "source": [
    "X_train, X_test, y_train, y_test = train_test_split(X, y, test_size=0.2, random_state=42)\n",
    "\n",
    "best_xgboost = optimize_xgboost_with_optuna(X_train, y_train)\n",
    "best_xgboost.fit(X_train, y_train)\n",
    "rmse, y_pred = evaluate_model(best_xgboost, X_test, y_test)\n",
    "print(f\"Optimized XGBoost RMSE: {rmse}\")\n",
    "\n",
    "cat_model = CatBoostRegressor(iterations=1000, learning_rate=0.05, depth=6, random_state=42, verbose=0)\n",
    "lgb_model = lgb.LGBMRegressor(n_estimators=1000, learning_rate=0.05, max_depth=6, random_state=42)\n",
    "rf_model = RandomForestRegressor(n_estimators=1000, random_state=42)\n",
    "gb_model = GradientBoostingRegressor(n_estimators=1000, learning_rate=0.05, max_depth=6, random_state=42)\n",
    "\n",
    "cat_model.fit(X_train, y_train)\n",
    "lgb_model.fit(X_train, y_train)\n",
    "rf_model.fit(X_train, y_train)\n",
    "gb_model.fit(X_train, y_train)\n",
    "\n",
    "ensemble_model = VotingRegressor(\n",
    "    estimators=[('cat', cat_model), \n",
    "                ('lgb', lgb_model), \n",
    "                ('xgb', best_xgboost), \n",
    "                ('rf', rf_model), \n",
    "                ('gb', gb_model)]\n",
    "                )\n",
    "\n",
    "ensemble_model.fit(X_train, y_train)\n",
    "\n",
    "ensemble_rmse, ensemble_y_pred = evaluate_model(ensemble_model, X_test, y_test)\n",
    "print(f\"Ensemble Model RMSE: {ensemble_rmse}\")\n",
    "\n",
    "# Сохранение лучшей модели\n",
    "def save_model(model, file_name):\n",
    "    joblib.dump(model, file_name)\n"
   ]
  },
  {
   "cell_type": "code",
   "execution_count": 9,
   "id": "0fc03960",
   "metadata": {},
   "outputs": [
    {
     "name": "stderr",
     "output_type": "stream",
     "text": [
      "E:\\Temp\\ipykernel_17332\\4291709700.py:72: FutureWarning: \n",
      "\n",
      "Passing `palette` without assigning `hue` is deprecated and will be removed in v0.14.0. Assign the `y` variable to `hue` and set `legend=False` for the same effect.\n",
      "\n",
      "  sns.barplot(x=importances, y=features, palette=\"viridis\", hue=None, legend=False)\n"
     ]
    },
    {
     "data": {
      "image/png": "[encoded data removed]",
      "text/plain": [
       "<Figure size 1200x800 with 1 Axes>"
      ]
     },
     "metadata": {},
     "output_type": "display_data"
    }
   ],
   "source": [
    "plot_feature_importance(best_xgboost, features)"
   ]
  },
  {
   "cell_type": "markdown",
   "id": "1dd7d60b",
   "metadata": {},
   "source": [
    "## ITMO code\n"
   ]
  },
  {
   "cell_type": "code",
   "execution_count": 57,
   "id": "09652ef9",
   "metadata": {},
   "outputs": [
    {
     "name": "stdout",
     "output_type": "stream",
     "text": [
      "Столбец 'levels' отсутствует в данных. Создаем его со значением по умолчанию 0.\n"
     ]
    }
   ],
   "source": [
    "school_gdf = load_geodata('data/input/Школа, Санкт-Петербург.geojson')\n",
    "school_gdf.to_crs(32636, inplace=True)\n",
    "school_gdf = school_gdf[school_gdf['Вместимость реальная/прогнозная'] == 'прогнозная']\n",
    "\n",
    "# school_gdf = compute_geometric_features(school_gdf)"
   ]
  },
  {
   "cell_type": "code",
   "execution_count": 58,
   "id": "e0029dd8",
   "metadata": {},
   "outputs": [
    {
     "data": {
      "text/plain": [
       "<Axes: >"
      ]
     },
     "execution_count": 58,
     "metadata": {},
     "output_type": "execute_result"
    },
    {
     "data": {
      "image/png": "[encoded data removed]",
      "text/plain": [
       "<Figure size 640x480 with 1 Axes>"
      ]
     },
     "metadata": {},
     "output_type": "display_data"
    }
   ],
   "source": [
    "school_gdf['Вместимость'].hist(label='Реал', bins=20)"
   ]
  },
  {
   "cell_type": "code",
   "execution_count": 42,
   "id": "973bb662",
   "metadata": {},
   "outputs": [],
   "source": [
    "features = ['area', 'perimeter', 'compactness', 'levels', 'length', 'width', 'area_perimeter_ratio', 'vertex_count', 'convexity_ratio']\n",
    "X = school_gdf[features]\n",
    "\n",
    "school_gdf['capacity'] = np.round(ensemble_model.predict(X))"
   ]
  },
  {
   "cell_type": "code",
   "execution_count": 54,
   "id": "6d5781d2",
   "metadata": {},
   "outputs": [
    {
     "data": {
      "text/plain": [
       "array(['MultiPolygon', 'Polygon'], dtype=object)"
      ]
     },
     "execution_count": 54,
     "metadata": {},
     "output_type": "execute_result"
    }
   ],
   "source": [
    "school_gdf.geometry.geom_type.unique()"
   ]
  },
  {
   "cell_type": "code",
   "execution_count": 56,
   "id": "f4697581",
   "metadata": {},
   "outputs": [
    {
     "data": {
      "text/plain": [
       "<matplotlib.legend.Legend at 0x238e7d3d3d0>"
      ]
     },
     "execution_count": 56,
     "metadata": {},
     "output_type": "execute_result"
    },
    {
     "data": {
      "image/png": "[encoded data removed]",
      "text/plain": [
       "<Figure size 640x480 with 1 Axes>"
      ]
     },
     "metadata": {},
     "output_type": "display_data"
    }
   ],
   "source": [
    "school_gdf['Вместимость'].hist(label='Реал', bins=20)\n",
    "school_gdf['capacity'].hist(label='Модель', bins=20)\n",
    "plt.legend()"
   ]
  }
 ],
 "metadata": {
  "kernelspec": {
   "display_name": ".venv",
   "language": "python",
   "name": "python3"
  },
  "language_info": {
   "codemirror_mode": {
    "name": "ipython",
    "version": 3
   },
   "file_extension": ".py",
   "mimetype": "text/x-python",
   "name": "python",
   "nbconvert_exporter": "python",
   "pygments_lexer": "ipython3",
   "version": "3.11.7"
  }
 },
 "nbformat": 4,
 "nbformat_minor": 5
}
